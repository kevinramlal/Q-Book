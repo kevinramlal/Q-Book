{
 "cells": [
  {
   "cell_type": "code",
   "execution_count": 2,
   "metadata": {},
   "outputs": [
    {
     "ename": "ImportError",
     "evalue": "cannot import name 'bernoulli' from 'scipy.stats' (unknown location)",
     "output_type": "error",
     "traceback": [
      "\u001b[1;31m---------------------------------------------------------------------------\u001b[0m",
      "\u001b[1;31mImportError\u001b[0m                               Traceback (most recent call last)",
      "\u001b[1;32m<ipython-input-2-6fa70edba5c3>\u001b[0m in \u001b[0;36m<module>\u001b[1;34m\u001b[0m\n\u001b[1;32m----> 1\u001b[1;33m \u001b[1;32mfrom\u001b[0m \u001b[0mgui_construct\u001b[0m \u001b[1;32mimport\u001b[0m \u001b[1;33m*\u001b[0m\u001b[1;33m\u001b[0m\u001b[1;33m\u001b[0m\u001b[0m\n\u001b[0m\u001b[0;32m      2\u001b[0m \u001b[0mmain_loop\u001b[0m\u001b[1;33m(\u001b[0m\u001b[1;36m30\u001b[0m\u001b[1;33m)\u001b[0m\u001b[1;33m\u001b[0m\u001b[1;33m\u001b[0m\u001b[0m\n",
      "\u001b[1;32m~\\Desktop\\Learning\\Orderbook Projecgt\\gui_construct.py\u001b[0m in \u001b[0;36m<module>\u001b[1;34m\u001b[0m\n\u001b[0;32m      3\u001b[0m \u001b[1;32mimport\u001b[0m \u001b[0mnumpy\u001b[0m \u001b[1;32mas\u001b[0m \u001b[0mnp\u001b[0m\u001b[1;33m\u001b[0m\u001b[1;33m\u001b[0m\u001b[0m\n\u001b[0;32m      4\u001b[0m \u001b[1;32mfrom\u001b[0m \u001b[0mob_helper\u001b[0m \u001b[1;32mimport\u001b[0m \u001b[1;33m*\u001b[0m\u001b[1;33m\u001b[0m\u001b[1;33m\u001b[0m\u001b[0m\n\u001b[1;32m----> 5\u001b[1;33m \u001b[1;32mfrom\u001b[0m \u001b[0mstochastic_process_helper\u001b[0m \u001b[1;32mimport\u001b[0m \u001b[1;33m*\u001b[0m\u001b[1;33m\u001b[0m\u001b[1;33m\u001b[0m\u001b[0m\n\u001b[0m\u001b[0;32m      6\u001b[0m \u001b[1;32mimport\u001b[0m \u001b[0mtime\u001b[0m\u001b[1;33m\u001b[0m\u001b[1;33m\u001b[0m\u001b[0m\n\u001b[0;32m      7\u001b[0m \u001b[1;32mfrom\u001b[0m \u001b[0mIPython\u001b[0m\u001b[1;33m.\u001b[0m\u001b[0mdisplay\u001b[0m \u001b[1;32mimport\u001b[0m \u001b[0mdisplay\u001b[0m\u001b[1;33m,\u001b[0m\u001b[0mHTML\u001b[0m\u001b[1;33m\u001b[0m\u001b[1;33m\u001b[0m\u001b[0m\n",
      "\u001b[1;32m~\\Desktop\\Learning\\Orderbook Projecgt\\stochastic_process_helper.py\u001b[0m in \u001b[0;36m<module>\u001b[1;34m\u001b[0m\n\u001b[0;32m      8\u001b[0m \u001b[1;32mimport\u001b[0m \u001b[0mmath\u001b[0m\u001b[1;33m\u001b[0m\u001b[1;33m\u001b[0m\u001b[0m\n\u001b[0;32m      9\u001b[0m \u001b[1;32mfrom\u001b[0m \u001b[0mcollections\u001b[0m \u001b[1;32mimport\u001b[0m \u001b[0mdefaultdict\u001b[0m\u001b[1;33m\u001b[0m\u001b[1;33m\u001b[0m\u001b[0m\n\u001b[1;32m---> 10\u001b[1;33m \u001b[1;32mfrom\u001b[0m \u001b[0mscipy\u001b[0m\u001b[1;33m.\u001b[0m\u001b[0mstats\u001b[0m \u001b[1;32mimport\u001b[0m \u001b[0mbernoulli\u001b[0m\u001b[1;33m\u001b[0m\u001b[1;33m\u001b[0m\u001b[0m\n\u001b[0m\u001b[0;32m     11\u001b[0m \u001b[1;33m\u001b[0m\u001b[0m\n\u001b[0;32m     12\u001b[0m \u001b[1;31m#----we want to simulate a poisson process\u001b[0m\u001b[1;33m\u001b[0m\u001b[1;33m\u001b[0m\u001b[1;33m\u001b[0m\u001b[0m\n",
      "\u001b[1;31mImportError\u001b[0m: cannot import name 'bernoulli' from 'scipy.stats' (unknown location)"
     ]
    }
   ],
   "source": [
    "from gui_construct import *\n",
    "main_loop(30)"
   ]
  },
  {
   "cell_type": "code",
   "execution_count": 1,
   "metadata": {},
   "outputs": [
    {
     "ename": "ImportError",
     "evalue": "numpy.core.multiarray failed to import",
     "output_type": "error",
     "traceback": [
      "\u001b[1;31m---------------------------------------------------------------------------\u001b[0m",
      "\u001b[1;31mImportError\u001b[0m                               Traceback (most recent call last)",
      "\u001b[1;31mImportError\u001b[0m: numpy.core.multiarray failed to import"
     ]
    },
    {
     "ename": "ImportError",
     "evalue": "numpy.core.multiarray failed to import",
     "output_type": "error",
     "traceback": [
      "\u001b[1;31m---------------------------------------------------------------------------\u001b[0m",
      "\u001b[1;31mImportError\u001b[0m                               Traceback (most recent call last)",
      "\u001b[1;32m<ipython-input-1-a0d2faabd9e9>\u001b[0m in \u001b[0;36m<module>\u001b[1;34m\u001b[0m\n\u001b[1;32m----> 1\u001b[1;33m \u001b[1;32mimport\u001b[0m \u001b[0mmatplotlib\u001b[0m\u001b[1;33m.\u001b[0m\u001b[0mpyplot\u001b[0m \u001b[1;32mas\u001b[0m \u001b[0mplt\u001b[0m\u001b[1;33m\u001b[0m\u001b[1;33m\u001b[0m\u001b[0m\n\u001b[0m",
      "\u001b[1;32m~\\Anaconda3\\lib\\site-packages\\matplotlib\\__init__.py\u001b[0m in \u001b[0;36m<module>\u001b[1;34m\u001b[0m\n\u001b[0;32m    205\u001b[0m \u001b[1;33m\u001b[0m\u001b[0m\n\u001b[0;32m    206\u001b[0m \u001b[1;33m\u001b[0m\u001b[0m\n\u001b[1;32m--> 207\u001b[1;33m \u001b[0m_check_versions\u001b[0m\u001b[1;33m(\u001b[0m\u001b[1;33m)\u001b[0m\u001b[1;33m\u001b[0m\u001b[1;33m\u001b[0m\u001b[0m\n\u001b[0m\u001b[0;32m    208\u001b[0m \u001b[1;33m\u001b[0m\u001b[0m\n\u001b[0;32m    209\u001b[0m \u001b[1;33m\u001b[0m\u001b[0m\n",
      "\u001b[1;32m~\\Anaconda3\\lib\\site-packages\\matplotlib\\__init__.py\u001b[0m in \u001b[0;36m_check_versions\u001b[1;34m()\u001b[0m\n\u001b[0;32m    190\u001b[0m     \u001b[1;31m# Quickfix to ensure Microsoft Visual C++ redistributable\u001b[0m\u001b[1;33m\u001b[0m\u001b[1;33m\u001b[0m\u001b[1;33m\u001b[0m\u001b[0m\n\u001b[0;32m    191\u001b[0m     \u001b[1;31m# DLLs are loaded before importing kiwisolver\u001b[0m\u001b[1;33m\u001b[0m\u001b[1;33m\u001b[0m\u001b[1;33m\u001b[0m\u001b[0m\n\u001b[1;32m--> 192\u001b[1;33m     \u001b[1;32mfrom\u001b[0m \u001b[1;33m.\u001b[0m \u001b[1;32mimport\u001b[0m \u001b[0mft2font\u001b[0m\u001b[1;33m\u001b[0m\u001b[1;33m\u001b[0m\u001b[0m\n\u001b[0m\u001b[0;32m    193\u001b[0m \u001b[1;33m\u001b[0m\u001b[0m\n\u001b[0;32m    194\u001b[0m     for modname, minver in [\n",
      "\u001b[1;31mImportError\u001b[0m: numpy.core.multiarray failed to import"
     ]
    }
   ],
   "source": [
    "import matplotlib.pyplot as plt\n"
   ]
  },
  {
   "cell_type": "code",
   "execution_count": 2,
   "metadata": {},
   "outputs": [],
   "source": [
    "import numpy as np\n"
   ]
  },
  {
   "cell_type": "code",
   "execution_count": null,
   "metadata": {},
   "outputs": [],
   "source": []
  },
  {
   "cell_type": "code",
   "execution_count": 3,
   "metadata": {},
   "outputs": [],
   "source": [
    "import scipy"
   ]
  },
  {
   "cell_type": "code",
   "execution_count": 7,
   "metadata": {},
   "outputs": [],
   "source": [
    "import scipy.stats as sc\n"
   ]
  },
  {
   "cell_type": "code",
   "execution_count": 9,
   "metadata": {},
   "outputs": [],
   "source": [
    "import scipy as sc\n"
   ]
  },
  {
   "cell_type": "code",
   "execution_count": 10,
   "metadata": {},
   "outputs": [
    {
     "name": "stdout",
     "output_type": "stream",
     "text": [
      "Help on package scipy:\n",
      "\n",
      "NAME\n",
      "    scipy\n",
      "\n",
      "PACKAGE CONTENTS\n",
      "\n",
      "\n",
      "SUBMODULES\n",
      "    stats\n",
      "\n",
      "FILE\n",
      "    (built-in)\n",
      "\n",
      "\n"
     ]
    }
   ],
   "source": [
    "help(sc)"
   ]
  },
  {
   "cell_type": "code",
   "execution_count": 5,
   "metadata": {},
   "outputs": [],
   "source": [
    "market_orders = market_order_poisson()"
   ]
  },
  {
   "cell_type": "code",
   "execution_count": 6,
   "metadata": {},
   "outputs": [
    {
     "data": {
      "text/plain": [
       "defaultdict(list,\n",
       "            {1: [0, 0, 0, 1],\n",
       "             2: [0, 1],\n",
       "             3: [1, 0, 1, 0, 1, 1, 1, 1, 0],\n",
       "             5: [0, 1],\n",
       "             6: [0, 1, 1, 1, 1],\n",
       "             7: [0, 1],\n",
       "             8: [1, 0, 1, 1],\n",
       "             9: [0, 1],\n",
       "             10: [1, 0, 0, 0, 1, 1],\n",
       "             11: [0],\n",
       "             12: [1, 1, 0, 0, 1],\n",
       "             13: [1, 1],\n",
       "             14: [0, 1, 1, 0],\n",
       "             15: [0, 1],\n",
       "             16: [0, 0, 1, 0],\n",
       "             17: [1, 1, 0],\n",
       "             18: [1, 1, 0],\n",
       "             19: [1, 1],\n",
       "             20: [1, 0, 1, 0, 0, 0],\n",
       "             21: [0, 1, 1, 0],\n",
       "             22: [1, 1, 1, 0, 1],\n",
       "             23: [1, 1, 1, 0, 1, 0, 0],\n",
       "             24: [0, 1],\n",
       "             25: [0, 0, 0, 0],\n",
       "             26: [1],\n",
       "             27: [1],\n",
       "             28: [0, 1],\n",
       "             29: [1, 1],\n",
       "             30: [0, 1, 0, 1]})"
      ]
     },
     "execution_count": 6,
     "metadata": {},
     "output_type": "execute_result"
    }
   ],
   "source": [
    "market_orders"
   ]
  },
  {
   "cell_type": "code",
   "execution_count": 12,
   "metadata": {},
   "outputs": [
    {
     "name": "stdout",
     "output_type": "stream",
     "text": [
      "1 (0, 100.09)\n",
      "2 (1, 99.97)\n",
      "3 (0, 100.09)\n",
      "4 (1, 99.99)\n",
      "5 (0, 100.03)\n",
      "6 (0, 100.1)\n",
      "7 (0, 100.01)\n",
      "8 (1, 99.94)\n",
      "9 (1, 99.96)\n",
      "10 (1, 99.91)\n",
      "11 (1, 99.95)\n",
      "12 (0, 100.09)\n",
      "13 (1, 99.95)\n",
      "14 (0, 100.1)\n",
      "15 (1, 99.98)\n",
      "16 (0, 100.08)\n",
      "17 (0, 100.07)\n",
      "18 (1, 99.97)\n",
      "19 (0, 100.09)\n",
      "20 (1, 99.92)\n",
      "21 (0, 100.03)\n",
      "22 (1, 99.98)\n",
      "23 (1, 99.96)\n",
      "25 (1, 99.9)\n",
      "26 (0, 100.08)\n",
      "27 (0, 100.01)\n",
      "29 (0, 100.02)\n",
      "30 (1, 99.95)\n"
     ]
    }
   ],
   "source": [
    "lo = limit_order_poisson(100,30,0.1,5,book.bid_sched,book.ask_sched)\n",
    "for i,v in lo.items():\n",
    "    print(i,v[0])"
   ]
  },
  {
   "cell_type": "code",
   "execution_count": 15,
   "metadata": {},
   "outputs": [
    {
     "name": "stdout",
     "output_type": "stream",
     "text": [
      "1\n",
      "0\n"
     ]
    }
   ],
   "source": [
    "k = lo[23]\n",
    "for i in k:\n",
    "    print(i[0])"
   ]
  },
  {
   "cell_type": "code",
   "execution_count": 4,
   "metadata": {},
   "outputs": [],
   "source": [
    "b = Book(100)"
   ]
  },
  {
   "cell_type": "code",
   "execution_count": 44,
   "metadata": {},
   "outputs": [],
   "source": [
    "t = b.generate_book()"
   ]
  },
  {
   "cell_type": "code",
   "execution_count": 16,
   "metadata": {},
   "outputs": [
    {
     "data": {
      "text/html": [
       "<table border=\"1\" class=\"dataframe\">\n",
       "  <thead>\n",
       "    <tr style=\"text-align: right;\">\n",
       "      <th></th>\n",
       "      <th>Level</th>\n",
       "      <th>Bids</th>\n",
       "      <th>Bid_Vol</th>\n",
       "      <th>Asks</th>\n",
       "      <th>Ask_Vols</th>\n",
       "    </tr>\n",
       "  </thead>\n",
       "  <tbody>\n",
       "    <tr>\n",
       "      <th>0</th>\n",
       "      <td>1</td>\n",
       "      <td>99.99</td>\n",
       "      <td>100</td>\n",
       "      <td>100.01</td>\n",
       "      <td>100</td>\n",
       "    </tr>\n",
       "    <tr>\n",
       "      <th>1</th>\n",
       "      <td>2</td>\n",
       "      <td>99.98</td>\n",
       "      <td>90</td>\n",
       "      <td>100.02</td>\n",
       "      <td>90</td>\n",
       "    </tr>\n",
       "    <tr>\n",
       "      <th>2</th>\n",
       "      <td>3</td>\n",
       "      <td>99.97</td>\n",
       "      <td>80</td>\n",
       "      <td>100.03</td>\n",
       "      <td>80</td>\n",
       "    </tr>\n",
       "    <tr>\n",
       "      <th>3</th>\n",
       "      <td>4</td>\n",
       "      <td>99.96</td>\n",
       "      <td>70</td>\n",
       "      <td>100.04</td>\n",
       "      <td>70</td>\n",
       "    </tr>\n",
       "    <tr>\n",
       "      <th>4</th>\n",
       "      <td>5</td>\n",
       "      <td>99.95</td>\n",
       "      <td>60</td>\n",
       "      <td>100.05</td>\n",
       "      <td>60</td>\n",
       "    </tr>\n",
       "    <tr>\n",
       "      <th>5</th>\n",
       "      <td>6</td>\n",
       "      <td>99.94</td>\n",
       "      <td>50</td>\n",
       "      <td>100.06</td>\n",
       "      <td>50</td>\n",
       "    </tr>\n",
       "    <tr>\n",
       "      <th>6</th>\n",
       "      <td>7</td>\n",
       "      <td>99.93</td>\n",
       "      <td>40</td>\n",
       "      <td>100.07</td>\n",
       "      <td>40</td>\n",
       "    </tr>\n",
       "    <tr>\n",
       "      <th>7</th>\n",
       "      <td>8</td>\n",
       "      <td>99.92</td>\n",
       "      <td>30</td>\n",
       "      <td>100.08</td>\n",
       "      <td>30</td>\n",
       "    </tr>\n",
       "    <tr>\n",
       "      <th>8</th>\n",
       "      <td>9</td>\n",
       "      <td>99.91</td>\n",
       "      <td>20</td>\n",
       "      <td>100.09</td>\n",
       "      <td>20</td>\n",
       "    </tr>\n",
       "  </tbody>\n",
       "</table>"
      ],
      "text/plain": [
       "<IPython.core.display.HTML object>"
      ]
     },
     "metadata": {},
     "output_type": "display_data"
    }
   ],
   "source": [
    "j = widgets.Output()\n",
    "with j:\n",
    "    display(HTML(t.to_html()))\n",
    "\n"
   ]
  },
  {
   "cell_type": "code",
   "execution_count": 22,
   "metadata": {},
   "outputs": [
    {
     "data": {
      "application/vnd.jupyter.widget-view+json": {
       "model_id": "04c6c66dd1c4464c98b36559bc59a5b6",
       "version_major": 2,
       "version_minor": 0
      },
      "text/plain": [
       "HTML(value='<div>\\n<style scoped>\\n    .dataframe tbody tr th:only-of-type {\\n        vertical-align: middle;\\…"
      ]
     },
     "metadata": {},
     "output_type": "display_data"
    }
   ],
   "source": [
    "widgets.HTML(t._repr_html_())\n",
    "\n"
   ]
  },
  {
   "cell_type": "code",
   "execution_count": 38,
   "metadata": {},
   "outputs": [],
   "source": [
    "def get_html_table(target_df, title):\n",
    "    df_style = target_df.style.set_table_attributes(\"style='border:2px solid;font-size:10px;margin:10px'\").set_caption(title)\n",
    "    return df_style._repr_html_().render()"
   ]
  },
  {
   "cell_type": "code",
   "execution_count": 45,
   "metadata": {},
   "outputs": [
    {
     "ename": "AttributeError",
     "evalue": "'str' object has no attribute 'render'",
     "output_type": "error",
     "traceback": [
      "\u001b[1;31m---------------------------------------------------------------------------\u001b[0m",
      "\u001b[1;31mAttributeError\u001b[0m                            Traceback (most recent call last)",
      "\u001b[1;32m<ipython-input-45-111cf41d61c6>\u001b[0m in \u001b[0;36m<module>\u001b[1;34m\u001b[0m\n\u001b[1;32m----> 1\u001b[1;33m \u001b[0mh\u001b[0m \u001b[1;33m=\u001b[0m \u001b[0mget_html_table\u001b[0m\u001b[1;33m(\u001b[0m\u001b[0mt\u001b[0m\u001b[1;33m,\u001b[0m\u001b[1;34m\"test\"\u001b[0m\u001b[1;33m)\u001b[0m\u001b[1;33m\u001b[0m\u001b[1;33m\u001b[0m\u001b[0m\n\u001b[0m\u001b[0;32m      2\u001b[0m \u001b[0mk\u001b[0m \u001b[1;33m=\u001b[0m \u001b[0mwidgets\u001b[0m\u001b[1;33m.\u001b[0m\u001b[0mHTML\u001b[0m\u001b[1;33m(\u001b[0m\u001b[0mwidgets\u001b[0m\u001b[1;33m.\u001b[0m\u001b[0mHTML\u001b[0m\u001b[1;33m(\u001b[0m\u001b[0mt\u001b[0m\u001b[1;33m.\u001b[0m\u001b[0mstyle\u001b[0m\u001b[1;33m.\u001b[0m\u001b[0mset_table_attributes\u001b[0m\u001b[1;33m(\u001b[0m\u001b[1;34m'class=\"table\"'\u001b[0m\u001b[1;33m)\u001b[0m\u001b[1;33m.\u001b[0m\u001b[0mrender\u001b[0m\u001b[1;33m(\u001b[0m\u001b[1;33m)\u001b[0m\u001b[1;33m)\u001b[0m\u001b[1;33m)\u001b[0m\u001b[1;33m\u001b[0m\u001b[1;33m\u001b[0m\u001b[0m\n\u001b[0;32m      3\u001b[0m \u001b[0mk\u001b[0m\u001b[1;33m\u001b[0m\u001b[1;33m\u001b[0m\u001b[0m\n",
      "\u001b[1;32m<ipython-input-38-5ae5b107efcc>\u001b[0m in \u001b[0;36mget_html_table\u001b[1;34m(target_df, title)\u001b[0m\n\u001b[0;32m      1\u001b[0m \u001b[1;32mdef\u001b[0m \u001b[0mget_html_table\u001b[0m\u001b[1;33m(\u001b[0m\u001b[0mtarget_df\u001b[0m\u001b[1;33m,\u001b[0m \u001b[0mtitle\u001b[0m\u001b[1;33m)\u001b[0m\u001b[1;33m:\u001b[0m\u001b[1;33m\u001b[0m\u001b[1;33m\u001b[0m\u001b[0m\n\u001b[0;32m      2\u001b[0m     \u001b[0mdf_style\u001b[0m \u001b[1;33m=\u001b[0m \u001b[0mtarget_df\u001b[0m\u001b[1;33m.\u001b[0m\u001b[0mstyle\u001b[0m\u001b[1;33m.\u001b[0m\u001b[0mset_table_attributes\u001b[0m\u001b[1;33m(\u001b[0m\u001b[1;34m\"style='border:2px solid;font-size:10px;margin:10px'\"\u001b[0m\u001b[1;33m)\u001b[0m\u001b[1;33m.\u001b[0m\u001b[0mset_caption\u001b[0m\u001b[1;33m(\u001b[0m\u001b[0mtitle\u001b[0m\u001b[1;33m)\u001b[0m\u001b[1;33m\u001b[0m\u001b[1;33m\u001b[0m\u001b[0m\n\u001b[1;32m----> 3\u001b[1;33m     \u001b[1;32mreturn\u001b[0m \u001b[0mdf_style\u001b[0m\u001b[1;33m.\u001b[0m\u001b[0m_repr_html_\u001b[0m\u001b[1;33m(\u001b[0m\u001b[1;33m)\u001b[0m\u001b[1;33m.\u001b[0m\u001b[0mrender\u001b[0m\u001b[1;33m(\u001b[0m\u001b[1;33m)\u001b[0m\u001b[1;33m\u001b[0m\u001b[1;33m\u001b[0m\u001b[0m\n\u001b[0m",
      "\u001b[1;31mAttributeError\u001b[0m: 'str' object has no attribute 'render'"
     ]
    }
   ],
   "source": [
    "h = get_html_table(t,\"test\")\n",
    "k = widgets.HTML(widgets.HTML(t.style.set_table_attributes('class=\"table\"').render()))\n",
    "k"
   ]
  },
  {
   "cell_type": "code",
   "execution_count": 27,
   "metadata": {},
   "outputs": [
    {
     "data": {
      "text/plain": [
       "'<style  type=\"text/css\" >\\n</style><table id=\"T_5c4747be_7551_11ea_b188_c83dd43c2a0a\" style=\\'border:2px solid;font-size:10px;margin:10px\\'><caption>test</caption><thead>    <tr>        <th class=\"blank level0\" ></th>        <th class=\"col_heading level0 col0\" >Level</th>        <th class=\"col_heading level0 col1\" >Bids</th>        <th class=\"col_heading level0 col2\" >Bid_Vol</th>        <th class=\"col_heading level0 col3\" >Asks</th>        <th class=\"col_heading level0 col4\" >Ask_Vols</th>    </tr></thead><tbody>\\n                <tr>\\n                        <th id=\"T_5c4747be_7551_11ea_b188_c83dd43c2a0alevel0_row0\" class=\"row_heading level0 row0\" >0</th>\\n                        <td id=\"T_5c4747be_7551_11ea_b188_c83dd43c2a0arow0_col0\" class=\"data row0 col0\" >1</td>\\n                        <td id=\"T_5c4747be_7551_11ea_b188_c83dd43c2a0arow0_col1\" class=\"data row0 col1\" >99.99</td>\\n                        <td id=\"T_5c4747be_7551_11ea_b188_c83dd43c2a0arow0_col2\" class=\"data row0 col2\" >100</td>\\n                        <td id=\"T_5c4747be_7551_11ea_b188_c83dd43c2a0arow0_col3\" class=\"data row0 col3\" >100.01</td>\\n                        <td id=\"T_5c4747be_7551_11ea_b188_c83dd43c2a0arow0_col4\" class=\"data row0 col4\" >100</td>\\n            </tr>\\n            <tr>\\n                        <th id=\"T_5c4747be_7551_11ea_b188_c83dd43c2a0alevel0_row1\" class=\"row_heading level0 row1\" >1</th>\\n                        <td id=\"T_5c4747be_7551_11ea_b188_c83dd43c2a0arow1_col0\" class=\"data row1 col0\" >2</td>\\n                        <td id=\"T_5c4747be_7551_11ea_b188_c83dd43c2a0arow1_col1\" class=\"data row1 col1\" >99.98</td>\\n                        <td id=\"T_5c4747be_7551_11ea_b188_c83dd43c2a0arow1_col2\" class=\"data row1 col2\" >90</td>\\n                        <td id=\"T_5c4747be_7551_11ea_b188_c83dd43c2a0arow1_col3\" class=\"data row1 col3\" >100.02</td>\\n                        <td id=\"T_5c4747be_7551_11ea_b188_c83dd43c2a0arow1_col4\" class=\"data row1 col4\" >90</td>\\n            </tr>\\n            <tr>\\n                        <th id=\"T_5c4747be_7551_11ea_b188_c83dd43c2a0alevel0_row2\" class=\"row_heading level0 row2\" >2</th>\\n                        <td id=\"T_5c4747be_7551_11ea_b188_c83dd43c2a0arow2_col0\" class=\"data row2 col0\" >3</td>\\n                        <td id=\"T_5c4747be_7551_11ea_b188_c83dd43c2a0arow2_col1\" class=\"data row2 col1\" >99.97</td>\\n                        <td id=\"T_5c4747be_7551_11ea_b188_c83dd43c2a0arow2_col2\" class=\"data row2 col2\" >80</td>\\n                        <td id=\"T_5c4747be_7551_11ea_b188_c83dd43c2a0arow2_col3\" class=\"data row2 col3\" >100.03</td>\\n                        <td id=\"T_5c4747be_7551_11ea_b188_c83dd43c2a0arow2_col4\" class=\"data row2 col4\" >80</td>\\n            </tr>\\n            <tr>\\n                        <th id=\"T_5c4747be_7551_11ea_b188_c83dd43c2a0alevel0_row3\" class=\"row_heading level0 row3\" >3</th>\\n                        <td id=\"T_5c4747be_7551_11ea_b188_c83dd43c2a0arow3_col0\" class=\"data row3 col0\" >4</td>\\n                        <td id=\"T_5c4747be_7551_11ea_b188_c83dd43c2a0arow3_col1\" class=\"data row3 col1\" >99.96</td>\\n                        <td id=\"T_5c4747be_7551_11ea_b188_c83dd43c2a0arow3_col2\" class=\"data row3 col2\" >70</td>\\n                        <td id=\"T_5c4747be_7551_11ea_b188_c83dd43c2a0arow3_col3\" class=\"data row3 col3\" >100.04</td>\\n                        <td id=\"T_5c4747be_7551_11ea_b188_c83dd43c2a0arow3_col4\" class=\"data row3 col4\" >70</td>\\n            </tr>\\n            <tr>\\n                        <th id=\"T_5c4747be_7551_11ea_b188_c83dd43c2a0alevel0_row4\" class=\"row_heading level0 row4\" >4</th>\\n                        <td id=\"T_5c4747be_7551_11ea_b188_c83dd43c2a0arow4_col0\" class=\"data row4 col0\" >5</td>\\n                        <td id=\"T_5c4747be_7551_11ea_b188_c83dd43c2a0arow4_col1\" class=\"data row4 col1\" >99.95</td>\\n                        <td id=\"T_5c4747be_7551_11ea_b188_c83dd43c2a0arow4_col2\" class=\"data row4 col2\" >60</td>\\n                        <td id=\"T_5c4747be_7551_11ea_b188_c83dd43c2a0arow4_col3\" class=\"data row4 col3\" >100.05</td>\\n                        <td id=\"T_5c4747be_7551_11ea_b188_c83dd43c2a0arow4_col4\" class=\"data row4 col4\" >60</td>\\n            </tr>\\n            <tr>\\n                        <th id=\"T_5c4747be_7551_11ea_b188_c83dd43c2a0alevel0_row5\" class=\"row_heading level0 row5\" >5</th>\\n                        <td id=\"T_5c4747be_7551_11ea_b188_c83dd43c2a0arow5_col0\" class=\"data row5 col0\" >6</td>\\n                        <td id=\"T_5c4747be_7551_11ea_b188_c83dd43c2a0arow5_col1\" class=\"data row5 col1\" >99.94</td>\\n                        <td id=\"T_5c4747be_7551_11ea_b188_c83dd43c2a0arow5_col2\" class=\"data row5 col2\" >50</td>\\n                        <td id=\"T_5c4747be_7551_11ea_b188_c83dd43c2a0arow5_col3\" class=\"data row5 col3\" >100.06</td>\\n                        <td id=\"T_5c4747be_7551_11ea_b188_c83dd43c2a0arow5_col4\" class=\"data row5 col4\" >50</td>\\n            </tr>\\n            <tr>\\n                        <th id=\"T_5c4747be_7551_11ea_b188_c83dd43c2a0alevel0_row6\" class=\"row_heading level0 row6\" >6</th>\\n                        <td id=\"T_5c4747be_7551_11ea_b188_c83dd43c2a0arow6_col0\" class=\"data row6 col0\" >7</td>\\n                        <td id=\"T_5c4747be_7551_11ea_b188_c83dd43c2a0arow6_col1\" class=\"data row6 col1\" >99.93</td>\\n                        <td id=\"T_5c4747be_7551_11ea_b188_c83dd43c2a0arow6_col2\" class=\"data row6 col2\" >40</td>\\n                        <td id=\"T_5c4747be_7551_11ea_b188_c83dd43c2a0arow6_col3\" class=\"data row6 col3\" >100.07</td>\\n                        <td id=\"T_5c4747be_7551_11ea_b188_c83dd43c2a0arow6_col4\" class=\"data row6 col4\" >40</td>\\n            </tr>\\n            <tr>\\n                        <th id=\"T_5c4747be_7551_11ea_b188_c83dd43c2a0alevel0_row7\" class=\"row_heading level0 row7\" >7</th>\\n                        <td id=\"T_5c4747be_7551_11ea_b188_c83dd43c2a0arow7_col0\" class=\"data row7 col0\" >8</td>\\n                        <td id=\"T_5c4747be_7551_11ea_b188_c83dd43c2a0arow7_col1\" class=\"data row7 col1\" >99.92</td>\\n                        <td id=\"T_5c4747be_7551_11ea_b188_c83dd43c2a0arow7_col2\" class=\"data row7 col2\" >30</td>\\n                        <td id=\"T_5c4747be_7551_11ea_b188_c83dd43c2a0arow7_col3\" class=\"data row7 col3\" >100.08</td>\\n                        <td id=\"T_5c4747be_7551_11ea_b188_c83dd43c2a0arow7_col4\" class=\"data row7 col4\" >30</td>\\n            </tr>\\n            <tr>\\n                        <th id=\"T_5c4747be_7551_11ea_b188_c83dd43c2a0alevel0_row8\" class=\"row_heading level0 row8\" >8</th>\\n                        <td id=\"T_5c4747be_7551_11ea_b188_c83dd43c2a0arow8_col0\" class=\"data row8 col0\" >9</td>\\n                        <td id=\"T_5c4747be_7551_11ea_b188_c83dd43c2a0arow8_col1\" class=\"data row8 col1\" >99.91</td>\\n                        <td id=\"T_5c4747be_7551_11ea_b188_c83dd43c2a0arow8_col2\" class=\"data row8 col2\" >20</td>\\n                        <td id=\"T_5c4747be_7551_11ea_b188_c83dd43c2a0arow8_col3\" class=\"data row8 col3\" >100.09</td>\\n                        <td id=\"T_5c4747be_7551_11ea_b188_c83dd43c2a0arow8_col4\" class=\"data row8 col4\" >20</td>\\n            </tr>\\n    </tbody></table>'"
      ]
     },
     "execution_count": 27,
     "metadata": {},
     "output_type": "execute_result"
    }
   ],
   "source": [
    "h"
   ]
  },
  {
   "cell_type": "code",
   "execution_count": 35,
   "metadata": {},
   "outputs": [
    {
     "ename": "AttributeError",
     "evalue": "'str' object has no attribute 'render'",
     "output_type": "error",
     "traceback": [
      "\u001b[1;31m---------------------------------------------------------------------------\u001b[0m",
      "\u001b[1;31mAttributeError\u001b[0m                            Traceback (most recent call last)",
      "\u001b[1;32m<ipython-input-35-2f490098d87b>\u001b[0m in \u001b[0;36m<module>\u001b[1;34m\u001b[0m\n\u001b[0;32m      1\u001b[0m \u001b[1;32mfrom\u001b[0m \u001b[0mIPython\u001b[0m\u001b[1;33m.\u001b[0m\u001b[0mdisplay\u001b[0m \u001b[1;32mimport\u001b[0m \u001b[0mdisplay\u001b[0m\u001b[1;33m,\u001b[0m\u001b[0mHTML\u001b[0m\u001b[1;33m\u001b[0m\u001b[1;33m\u001b[0m\u001b[0m\n\u001b[1;32m----> 2\u001b[1;33m \u001b[0mdisplay\u001b[0m\u001b[1;33m(\u001b[0m\u001b[0mwidgets\u001b[0m\u001b[1;33m.\u001b[0m\u001b[0mHTML\u001b[0m\u001b[1;33m(\u001b[0m\u001b[0mh\u001b[0m\u001b[1;33m.\u001b[0m\u001b[0mrender\u001b[0m\u001b[1;33m(\u001b[0m\u001b[1;33m)\u001b[0m\u001b[1;33m)\u001b[0m\u001b[1;33m)\u001b[0m\u001b[1;33m\u001b[0m\u001b[1;33m\u001b[0m\u001b[0m\n\u001b[0m",
      "\u001b[1;31mAttributeError\u001b[0m: 'str' object has no attribute 'render'"
     ]
    }
   ],
   "source": [
    "from IPython.display import display,HTML\n",
    "display(widgets.HTML(h.render()))"
   ]
  },
  {
   "cell_type": "code",
   "execution_count": 50,
   "metadata": {},
   "outputs": [
    {
     "ename": "TypeError",
     "evalue": "'HTML' object is not subscriptable",
     "output_type": "error",
     "traceback": [
      "\u001b[1;31m---------------------------------------------------------------------------\u001b[0m",
      "\u001b[1;31mTypeError\u001b[0m                                 Traceback (most recent call last)",
      "\u001b[1;32m<ipython-input-50-36a95235c55e>\u001b[0m in \u001b[0;36m<module>\u001b[1;34m\u001b[0m\n\u001b[1;32m----> 1\u001b[1;33m \u001b[0mHTML\u001b[0m\u001b[1;33m(\u001b[0m\u001b[0mwidgets\u001b[0m\u001b[1;33m.\u001b[0m\u001b[0mHTML\u001b[0m\u001b[1;33m(\u001b[0m\u001b[0mt\u001b[0m\u001b[1;33m.\u001b[0m\u001b[0mstyle\u001b[0m\u001b[1;33m.\u001b[0m\u001b[0mset_table_attributes\u001b[0m\u001b[1;33m(\u001b[0m\u001b[1;34m'class=\"table\"'\u001b[0m\u001b[1;33m)\u001b[0m\u001b[1;33m.\u001b[0m\u001b[0mrender\u001b[0m\u001b[1;33m(\u001b[0m\u001b[1;33m)\u001b[0m\u001b[1;33m)\u001b[0m\u001b[1;33m)\u001b[0m\u001b[1;33m\u001b[0m\u001b[1;33m\u001b[0m\u001b[0m\n\u001b[0m",
      "\u001b[1;32m~\\Anaconda3\\lib\\site-packages\\IPython\\core\\display.py\u001b[0m in \u001b[0;36m__init__\u001b[1;34m(self, data, url, filename, metadata)\u001b[0m\n\u001b[0;32m    686\u001b[0m             \u001b[1;32mreturn\u001b[0m \u001b[0mprefix\u001b[0m\u001b[1;33m.\u001b[0m\u001b[0mstartswith\u001b[0m\u001b[1;33m(\u001b[0m\u001b[1;34m\"<iframe \"\u001b[0m\u001b[1;33m)\u001b[0m \u001b[1;32mand\u001b[0m \u001b[0msuffix\u001b[0m\u001b[1;33m.\u001b[0m\u001b[0mendswith\u001b[0m\u001b[1;33m(\u001b[0m\u001b[1;34m\"</iframe>\"\u001b[0m\u001b[1;33m)\u001b[0m\u001b[1;33m\u001b[0m\u001b[1;33m\u001b[0m\u001b[0m\n\u001b[0;32m    687\u001b[0m \u001b[1;33m\u001b[0m\u001b[0m\n\u001b[1;32m--> 688\u001b[1;33m         \u001b[1;32mif\u001b[0m \u001b[0mwarn\u001b[0m\u001b[1;33m(\u001b[0m\u001b[1;33m)\u001b[0m\u001b[1;33m:\u001b[0m\u001b[1;33m\u001b[0m\u001b[1;33m\u001b[0m\u001b[0m\n\u001b[0m\u001b[0;32m    689\u001b[0m             \u001b[0mwarnings\u001b[0m\u001b[1;33m.\u001b[0m\u001b[0mwarn\u001b[0m\u001b[1;33m(\u001b[0m\u001b[1;34m\"Consider using IPython.display.IFrame instead\"\u001b[0m\u001b[1;33m)\u001b[0m\u001b[1;33m\u001b[0m\u001b[1;33m\u001b[0m\u001b[0m\n\u001b[0;32m    690\u001b[0m         \u001b[0msuper\u001b[0m\u001b[1;33m(\u001b[0m\u001b[0mHTML\u001b[0m\u001b[1;33m,\u001b[0m \u001b[0mself\u001b[0m\u001b[1;33m)\u001b[0m\u001b[1;33m.\u001b[0m\u001b[0m__init__\u001b[0m\u001b[1;33m(\u001b[0m\u001b[0mdata\u001b[0m\u001b[1;33m=\u001b[0m\u001b[0mdata\u001b[0m\u001b[1;33m,\u001b[0m \u001b[0murl\u001b[0m\u001b[1;33m=\u001b[0m\u001b[0murl\u001b[0m\u001b[1;33m,\u001b[0m \u001b[0mfilename\u001b[0m\u001b[1;33m=\u001b[0m\u001b[0mfilename\u001b[0m\u001b[1;33m,\u001b[0m \u001b[0mmetadata\u001b[0m\u001b[1;33m=\u001b[0m\u001b[0mmetadata\u001b[0m\u001b[1;33m)\u001b[0m\u001b[1;33m\u001b[0m\u001b[1;33m\u001b[0m\u001b[0m\n",
      "\u001b[1;32m~\\Anaconda3\\lib\\site-packages\\IPython\\core\\display.py\u001b[0m in \u001b[0;36mwarn\u001b[1;34m()\u001b[0m\n\u001b[0;32m    682\u001b[0m             \u001b[1;31m# long string and we're only interested in its beginning and end.\u001b[0m\u001b[1;33m\u001b[0m\u001b[1;33m\u001b[0m\u001b[1;33m\u001b[0m\u001b[0m\n\u001b[0;32m    683\u001b[0m             \u001b[1;31m#\u001b[0m\u001b[1;33m\u001b[0m\u001b[1;33m\u001b[0m\u001b[1;33m\u001b[0m\u001b[0m\n\u001b[1;32m--> 684\u001b[1;33m             \u001b[0mprefix\u001b[0m \u001b[1;33m=\u001b[0m \u001b[0mdata\u001b[0m\u001b[1;33m[\u001b[0m\u001b[1;33m:\u001b[0m\u001b[1;36m10\u001b[0m\u001b[1;33m]\u001b[0m\u001b[1;33m.\u001b[0m\u001b[0mlower\u001b[0m\u001b[1;33m(\u001b[0m\u001b[1;33m)\u001b[0m\u001b[1;33m\u001b[0m\u001b[1;33m\u001b[0m\u001b[0m\n\u001b[0m\u001b[0;32m    685\u001b[0m             \u001b[0msuffix\u001b[0m \u001b[1;33m=\u001b[0m \u001b[0mdata\u001b[0m\u001b[1;33m[\u001b[0m\u001b[1;33m-\u001b[0m\u001b[1;36m10\u001b[0m\u001b[1;33m:\u001b[0m\u001b[1;33m]\u001b[0m\u001b[1;33m.\u001b[0m\u001b[0mlower\u001b[0m\u001b[1;33m(\u001b[0m\u001b[1;33m)\u001b[0m\u001b[1;33m\u001b[0m\u001b[1;33m\u001b[0m\u001b[0m\n\u001b[0;32m    686\u001b[0m             \u001b[1;32mreturn\u001b[0m \u001b[0mprefix\u001b[0m\u001b[1;33m.\u001b[0m\u001b[0mstartswith\u001b[0m\u001b[1;33m(\u001b[0m\u001b[1;34m\"<iframe \"\u001b[0m\u001b[1;33m)\u001b[0m \u001b[1;32mand\u001b[0m \u001b[0msuffix\u001b[0m\u001b[1;33m.\u001b[0m\u001b[0mendswith\u001b[0m\u001b[1;33m(\u001b[0m\u001b[1;34m\"</iframe>\"\u001b[0m\u001b[1;33m)\u001b[0m\u001b[1;33m\u001b[0m\u001b[1;33m\u001b[0m\u001b[0m\n",
      "\u001b[1;31mTypeError\u001b[0m: 'HTML' object is not subscriptable"
     ]
    }
   ],
   "source": [
    "HTML(widgets.HTML(t.style.set_table_attributes('class=\"table\"').render()))"
   ]
  },
  {
   "cell_type": "code",
   "execution_count": 2,
   "metadata": {},
   "outputs": [
    {
     "data": {
      "text/html": [
       "<div>\n",
       "<style scoped>\n",
       "    .dataframe tbody tr th:only-of-type {\n",
       "        vertical-align: middle;\n",
       "    }\n",
       "\n",
       "    .dataframe tbody tr th {\n",
       "        vertical-align: top;\n",
       "    }\n",
       "\n",
       "    .dataframe thead th {\n",
       "        text-align: right;\n",
       "    }\n",
       "</style>\n",
       "<table border=\"1\" class=\"dataframe\">\n",
       "  <thead>\n",
       "    <tr style=\"text-align: right;\">\n",
       "      <th></th>\n",
       "      <th>0</th>\n",
       "      <th>1</th>\n",
       "      <th>2</th>\n",
       "      <th>3</th>\n",
       "      <th>4</th>\n",
       "    </tr>\n",
       "  </thead>\n",
       "  <tbody>\n",
       "    <tr>\n",
       "      <th>0</th>\n",
       "      <td>3.683151</td>\n",
       "      <td>-0.902712</td>\n",
       "      <td>1.248971</td>\n",
       "      <td>1.032309</td>\n",
       "      <td>1.135989</td>\n",
       "    </tr>\n",
       "    <tr>\n",
       "      <th>1</th>\n",
       "      <td>1.145562</td>\n",
       "      <td>-2.223825</td>\n",
       "      <td>-0.039341</td>\n",
       "      <td>-0.868462</td>\n",
       "      <td>0.385297</td>\n",
       "    </tr>\n",
       "    <tr>\n",
       "      <th>2</th>\n",
       "      <td>1.031997</td>\n",
       "      <td>-1.074891</td>\n",
       "      <td>-1.011702</td>\n",
       "      <td>-2.001350</td>\n",
       "      <td>-0.812441</td>\n",
       "    </tr>\n",
       "    <tr>\n",
       "      <th>3</th>\n",
       "      <td>0.946746</td>\n",
       "      <td>-0.092762</td>\n",
       "      <td>0.533571</td>\n",
       "      <td>0.468823</td>\n",
       "      <td>1.653711</td>\n",
       "    </tr>\n",
       "    <tr>\n",
       "      <th>4</th>\n",
       "      <td>0.724959</td>\n",
       "      <td>-1.159221</td>\n",
       "      <td>1.148580</td>\n",
       "      <td>0.892433</td>\n",
       "      <td>2.251751</td>\n",
       "    </tr>\n",
       "    <tr>\n",
       "      <th>5</th>\n",
       "      <td>-0.298854</td>\n",
       "      <td>-0.279942</td>\n",
       "      <td>0.440359</td>\n",
       "      <td>-0.758115</td>\n",
       "      <td>-0.983463</td>\n",
       "    </tr>\n",
       "    <tr>\n",
       "      <th>6</th>\n",
       "      <td>-0.673814</td>\n",
       "      <td>0.646193</td>\n",
       "      <td>-0.183975</td>\n",
       "      <td>0.894778</td>\n",
       "      <td>-1.554160</td>\n",
       "    </tr>\n",
       "    <tr>\n",
       "      <th>7</th>\n",
       "      <td>0.352954</td>\n",
       "      <td>0.842979</td>\n",
       "      <td>1.717465</td>\n",
       "      <td>-0.826107</td>\n",
       "      <td>-0.713150</td>\n",
       "    </tr>\n",
       "    <tr>\n",
       "      <th>8</th>\n",
       "      <td>0.360414</td>\n",
       "      <td>1.143196</td>\n",
       "      <td>-1.657980</td>\n",
       "      <td>0.950929</td>\n",
       "      <td>1.140203</td>\n",
       "    </tr>\n",
       "    <tr>\n",
       "      <th>9</th>\n",
       "      <td>0.265305</td>\n",
       "      <td>2.319309</td>\n",
       "      <td>0.408290</td>\n",
       "      <td>0.376839</td>\n",
       "      <td>-0.295142</td>\n",
       "    </tr>\n",
       "  </tbody>\n",
       "</table>\n",
       "</div>"
      ],
      "text/plain": [
       "          0         1         2         3         4\n",
       "0  3.683151 -0.902712  1.248971  1.032309  1.135989\n",
       "1  1.145562 -2.223825 -0.039341 -0.868462  0.385297\n",
       "2  1.031997 -1.074891 -1.011702 -2.001350 -0.812441\n",
       "3  0.946746 -0.092762  0.533571  0.468823  1.653711\n",
       "4  0.724959 -1.159221  1.148580  0.892433  2.251751\n",
       "5 -0.298854 -0.279942  0.440359 -0.758115 -0.983463\n",
       "6 -0.673814  0.646193 -0.183975  0.894778 -1.554160\n",
       "7  0.352954  0.842979  1.717465 -0.826107 -0.713150\n",
       "8  0.360414  1.143196 -1.657980  0.950929  1.140203\n",
       "9  0.265305  2.319309  0.408290  0.376839 -0.295142"
      ]
     },
     "metadata": {},
     "output_type": "display_data"
    },
    {
     "data": {
      "application/vnd.jupyter.widget-view+json": {
       "model_id": "c5b65d343d0f4d87826e475c7571b4b1",
       "version_major": 2,
       "version_minor": 0
      },
      "text/plain": [
       "HBox(children=(Output(), Output()))"
      ]
     },
     "metadata": {},
     "output_type": "display_data"
    }
   ],
   "source": [
    "import pandas as pd\n",
    "from ipywidgets import *\n",
    "from IPython.display import display\n",
    "import numpy as np\n",
    "\n",
    "out = Output()\n",
    "with out:\n",
    "    display(pd.DataFrame(np.random.randn(10,5)))\n",
    "display(HBox([out, out]))"
   ]
  },
  {
   "cell_type": "code",
   "execution_count": null,
   "metadata": {},
   "outputs": [],
   "source": []
  }
 ],
 "metadata": {
  "kernelspec": {
   "display_name": "Python 3",
   "language": "python",
   "name": "python3"
  },
  "language_info": {
   "codemirror_mode": {
    "name": "ipython",
    "version": 3
   },
   "file_extension": ".py",
   "mimetype": "text/x-python",
   "name": "python",
   "nbconvert_exporter": "python",
   "pygments_lexer": "ipython3",
   "version": "3.7.1"
  }
 },
 "nbformat": 4,
 "nbformat_minor": 4
}
