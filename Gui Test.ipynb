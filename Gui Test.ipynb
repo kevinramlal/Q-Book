{
 "cells": [
  {
   "cell_type": "code",
   "execution_count": 1,
   "metadata": {},
   "outputs": [
    {
     "data": {
      "application/vnd.jupyter.widget-view+json": {
       "model_id": "20fd828aaf47410ab63c04963da2e2c1",
       "version_major": 2,
       "version_minor": 0
      },
      "text/plain": [
       "interactive(children=(IntSlider(value=0, description='time_step', max=10), Output()), _dom_classes=('widget-in…"
      ]
     },
     "metadata": {},
     "output_type": "display_data"
    }
   ],
   "source": [
    "from gui_construct import *\n",
    "GUI_construct(10)\n",
    "\n"
   ]
  },
  {
   "cell_type": "code",
   "execution_count": 7,
   "metadata": {},
   "outputs": [
    {
     "ename": "ValueError",
     "evalue": "The truth value of a DataFrame is ambiguous. Use a.empty, a.bool(), a.item(), a.any() or a.all().",
     "output_type": "error",
     "traceback": [
      "\u001b[1;31m---------------------------------------------------------------------------\u001b[0m",
      "\u001b[1;31mValueError\u001b[0m                                Traceback (most recent call last)",
      "\u001b[1;32m<ipython-input-7-d3be77592c7c>\u001b[0m in \u001b[0;36m<module>\u001b[1;34m\u001b[0m\n\u001b[1;32m----> 1\u001b[1;33m \u001b[0mHTML\u001b[0m\u001b[1;33m(\u001b[0m\u001b[0ma\u001b[0m\u001b[1;33m[\u001b[0m\u001b[1;36m0\u001b[0m\u001b[1;33m]\u001b[0m\u001b[1;33m)\u001b[0m\u001b[1;33m\u001b[0m\u001b[1;33m\u001b[0m\u001b[0m\n\u001b[0m",
      "\u001b[1;32m~\\anaconda3\\lib\\site-packages\\IPython\\core\\display.py\u001b[0m in \u001b[0;36m__init__\u001b[1;34m(self, data, url, filename, metadata)\u001b[0m\n\u001b[0;32m    698\u001b[0m             \u001b[1;32mreturn\u001b[0m \u001b[0mprefix\u001b[0m\u001b[1;33m.\u001b[0m\u001b[0mstartswith\u001b[0m\u001b[1;33m(\u001b[0m\u001b[1;34m\"<iframe \"\u001b[0m\u001b[1;33m)\u001b[0m \u001b[1;32mand\u001b[0m \u001b[0msuffix\u001b[0m\u001b[1;33m.\u001b[0m\u001b[0mendswith\u001b[0m\u001b[1;33m(\u001b[0m\u001b[1;34m\"</iframe>\"\u001b[0m\u001b[1;33m)\u001b[0m\u001b[1;33m\u001b[0m\u001b[1;33m\u001b[0m\u001b[0m\n\u001b[0;32m    699\u001b[0m \u001b[1;33m\u001b[0m\u001b[0m\n\u001b[1;32m--> 700\u001b[1;33m         \u001b[1;32mif\u001b[0m \u001b[0mwarn\u001b[0m\u001b[1;33m(\u001b[0m\u001b[1;33m)\u001b[0m\u001b[1;33m:\u001b[0m\u001b[1;33m\u001b[0m\u001b[1;33m\u001b[0m\u001b[0m\n\u001b[0m\u001b[0;32m    701\u001b[0m             \u001b[0mwarnings\u001b[0m\u001b[1;33m.\u001b[0m\u001b[0mwarn\u001b[0m\u001b[1;33m(\u001b[0m\u001b[1;34m\"Consider using IPython.display.IFrame instead\"\u001b[0m\u001b[1;33m)\u001b[0m\u001b[1;33m\u001b[0m\u001b[1;33m\u001b[0m\u001b[0m\n\u001b[0;32m    702\u001b[0m         \u001b[0msuper\u001b[0m\u001b[1;33m(\u001b[0m\u001b[0mHTML\u001b[0m\u001b[1;33m,\u001b[0m \u001b[0mself\u001b[0m\u001b[1;33m)\u001b[0m\u001b[1;33m.\u001b[0m\u001b[0m__init__\u001b[0m\u001b[1;33m(\u001b[0m\u001b[0mdata\u001b[0m\u001b[1;33m=\u001b[0m\u001b[0mdata\u001b[0m\u001b[1;33m,\u001b[0m \u001b[0murl\u001b[0m\u001b[1;33m=\u001b[0m\u001b[0murl\u001b[0m\u001b[1;33m,\u001b[0m \u001b[0mfilename\u001b[0m\u001b[1;33m=\u001b[0m\u001b[0mfilename\u001b[0m\u001b[1;33m,\u001b[0m \u001b[0mmetadata\u001b[0m\u001b[1;33m=\u001b[0m\u001b[0mmetadata\u001b[0m\u001b[1;33m)\u001b[0m\u001b[1;33m\u001b[0m\u001b[1;33m\u001b[0m\u001b[0m\n",
      "\u001b[1;32m~\\anaconda3\\lib\\site-packages\\IPython\\core\\display.py\u001b[0m in \u001b[0;36mwarn\u001b[1;34m()\u001b[0m\n\u001b[0;32m    687\u001b[0m     \u001b[1;32mdef\u001b[0m \u001b[0m__init__\u001b[0m\u001b[1;33m(\u001b[0m\u001b[0mself\u001b[0m\u001b[1;33m,\u001b[0m \u001b[0mdata\u001b[0m\u001b[1;33m=\u001b[0m\u001b[1;32mNone\u001b[0m\u001b[1;33m,\u001b[0m \u001b[0murl\u001b[0m\u001b[1;33m=\u001b[0m\u001b[1;32mNone\u001b[0m\u001b[1;33m,\u001b[0m \u001b[0mfilename\u001b[0m\u001b[1;33m=\u001b[0m\u001b[1;32mNone\u001b[0m\u001b[1;33m,\u001b[0m \u001b[0mmetadata\u001b[0m\u001b[1;33m=\u001b[0m\u001b[1;32mNone\u001b[0m\u001b[1;33m)\u001b[0m\u001b[1;33m:\u001b[0m\u001b[1;33m\u001b[0m\u001b[1;33m\u001b[0m\u001b[0m\n\u001b[0;32m    688\u001b[0m         \u001b[1;32mdef\u001b[0m \u001b[0mwarn\u001b[0m\u001b[1;33m(\u001b[0m\u001b[1;33m)\u001b[0m\u001b[1;33m:\u001b[0m\u001b[1;33m\u001b[0m\u001b[1;33m\u001b[0m\u001b[0m\n\u001b[1;32m--> 689\u001b[1;33m             \u001b[1;32mif\u001b[0m \u001b[1;32mnot\u001b[0m \u001b[0mdata\u001b[0m\u001b[1;33m:\u001b[0m\u001b[1;33m\u001b[0m\u001b[1;33m\u001b[0m\u001b[0m\n\u001b[0m\u001b[0;32m    690\u001b[0m                 \u001b[1;32mreturn\u001b[0m \u001b[1;32mFalse\u001b[0m\u001b[1;33m\u001b[0m\u001b[1;33m\u001b[0m\u001b[0m\n\u001b[0;32m    691\u001b[0m \u001b[1;33m\u001b[0m\u001b[0m\n",
      "\u001b[1;32m~\\anaconda3\\lib\\site-packages\\pandas\\core\\generic.py\u001b[0m in \u001b[0;36m__nonzero__\u001b[1;34m(self)\u001b[0m\n\u001b[0;32m   1477\u001b[0m     \u001b[1;32mdef\u001b[0m \u001b[0m__nonzero__\u001b[0m\u001b[1;33m(\u001b[0m\u001b[0mself\u001b[0m\u001b[1;33m)\u001b[0m\u001b[1;33m:\u001b[0m\u001b[1;33m\u001b[0m\u001b[1;33m\u001b[0m\u001b[0m\n\u001b[0;32m   1478\u001b[0m         raise ValueError(\n\u001b[1;32m-> 1479\u001b[1;33m             \u001b[1;34mf\"The truth value of a {type(self).__name__} is ambiguous. \"\u001b[0m\u001b[1;33m\u001b[0m\u001b[1;33m\u001b[0m\u001b[0m\n\u001b[0m\u001b[0;32m   1480\u001b[0m             \u001b[1;34m\"Use a.empty, a.bool(), a.item(), a.any() or a.all().\"\u001b[0m\u001b[1;33m\u001b[0m\u001b[1;33m\u001b[0m\u001b[0m\n\u001b[0;32m   1481\u001b[0m         )\n",
      "\u001b[1;31mValueError\u001b[0m: The truth value of a DataFrame is ambiguous. Use a.empty, a.bool(), a.item(), a.any() or a.all()."
     ]
    }
   ],
   "source": [
    "HTML(a[0])\n"
   ]
  },
  {
   "cell_type": "code",
   "execution_count": 2,
   "metadata": {},
   "outputs": [
    {
     "data": {
      "text/plain": [
       "{0:    Level   Bids                          Bid_Vol    Asks  \\\n",
       " 0      1  99.99            [0, 0, 0, 0, 0, 0, 0]  100.01   \n",
       " 1      2  99.98            [0, 0, 0, 0, 0, 0, 5]  100.02   \n",
       " 2      3  99.97                          [80, 5]  100.03   \n",
       " 3      4  99.96              [70, 5, 5, 5, 5, 5]  100.04   \n",
       " 4      5  99.95        [60, 5, 5, 5, 5, 5, 5, 5]  100.05   \n",
       " 5      6  99.94                 [50, 5, 5, 5, 5]  100.06   \n",
       " 6      7  99.93                    [40, 5, 5, 5]  100.07   \n",
       " 7      8  99.92  [30, 5, 5, 5, 5, 5, 5, 5, 5, 5]  100.08   \n",
       " 8      9  99.91     [20, 5, 5, 5, 5, 5, 5, 5, 5]  100.09   \n",
       " \n",
       "                        Ask_Vols  \n",
       " 0                  [0, 0, 0, 0]  \n",
       " 1                  [0, 0, 0, 0]  \n",
       " 2              [45, 5, 5, 5, 5]  \n",
       " 3        [70, 5, 5, 5, 5, 5, 5]  \n",
       " 4                 [60, 5, 5, 5]  \n",
       " 5              [50, 5, 5, 5, 5]  \n",
       " 6           [40, 5, 5, 5, 5, 5]  \n",
       " 7              [30, 5, 5, 5, 5]  \n",
       " 8  [20, 5, 5, 5, 5, 5, 5, 5, 5]  ,\n",
       " 1:    Level   Bids                          Bid_Vol    Asks  \\\n",
       " 0      1  99.99            [0, 0, 0, 0, 0, 0, 0]  100.01   \n",
       " 1      2  99.98            [0, 0, 0, 0, 0, 0, 5]  100.02   \n",
       " 2      3  99.97                          [80, 5]  100.03   \n",
       " 3      4  99.96              [70, 5, 5, 5, 5, 5]  100.04   \n",
       " 4      5  99.95        [60, 5, 5, 5, 5, 5, 5, 5]  100.05   \n",
       " 5      6  99.94                 [50, 5, 5, 5, 5]  100.06   \n",
       " 6      7  99.93                    [40, 5, 5, 5]  100.07   \n",
       " 7      8  99.92  [30, 5, 5, 5, 5, 5, 5, 5, 5, 5]  100.08   \n",
       " 8      9  99.91     [20, 5, 5, 5, 5, 5, 5, 5, 5]  100.09   \n",
       " \n",
       "                        Ask_Vols  \n",
       " 0                  [0, 0, 0, 0]  \n",
       " 1                  [0, 0, 0, 0]  \n",
       " 2              [45, 5, 5, 5, 5]  \n",
       " 3        [70, 5, 5, 5, 5, 5, 5]  \n",
       " 4                 [60, 5, 5, 5]  \n",
       " 5              [50, 5, 5, 5, 5]  \n",
       " 6           [40, 5, 5, 5, 5, 5]  \n",
       " 7              [30, 5, 5, 5, 5]  \n",
       " 8  [20, 5, 5, 5, 5, 5, 5, 5, 5]  ,\n",
       " 2:    Level   Bids                          Bid_Vol    Asks  \\\n",
       " 0      1  99.99            [0, 0, 0, 0, 0, 0, 0]  100.01   \n",
       " 1      2  99.98            [0, 0, 0, 0, 0, 0, 5]  100.02   \n",
       " 2      3  99.97                          [80, 5]  100.03   \n",
       " 3      4  99.96              [70, 5, 5, 5, 5, 5]  100.04   \n",
       " 4      5  99.95        [60, 5, 5, 5, 5, 5, 5, 5]  100.05   \n",
       " 5      6  99.94                 [50, 5, 5, 5, 5]  100.06   \n",
       " 6      7  99.93                    [40, 5, 5, 5]  100.07   \n",
       " 7      8  99.92  [30, 5, 5, 5, 5, 5, 5, 5, 5, 5]  100.08   \n",
       " 8      9  99.91     [20, 5, 5, 5, 5, 5, 5, 5, 5]  100.09   \n",
       " \n",
       "                        Ask_Vols  \n",
       " 0                  [0, 0, 0, 0]  \n",
       " 1                  [0, 0, 0, 0]  \n",
       " 2              [45, 5, 5, 5, 5]  \n",
       " 3        [70, 5, 5, 5, 5, 5, 5]  \n",
       " 4                 [60, 5, 5, 5]  \n",
       " 5              [50, 5, 5, 5, 5]  \n",
       " 6           [40, 5, 5, 5, 5, 5]  \n",
       " 7              [30, 5, 5, 5, 5]  \n",
       " 8  [20, 5, 5, 5, 5, 5, 5, 5, 5]  ,\n",
       " 3:    Level   Bids                          Bid_Vol    Asks  \\\n",
       " 0      1  99.99            [0, 0, 0, 0, 0, 0, 0]  100.01   \n",
       " 1      2  99.98            [0, 0, 0, 0, 0, 0, 5]  100.02   \n",
       " 2      3  99.97                          [80, 5]  100.03   \n",
       " 3      4  99.96              [70, 5, 5, 5, 5, 5]  100.04   \n",
       " 4      5  99.95        [60, 5, 5, 5, 5, 5, 5, 5]  100.05   \n",
       " 5      6  99.94                 [50, 5, 5, 5, 5]  100.06   \n",
       " 6      7  99.93                    [40, 5, 5, 5]  100.07   \n",
       " 7      8  99.92  [30, 5, 5, 5, 5, 5, 5, 5, 5, 5]  100.08   \n",
       " 8      9  99.91     [20, 5, 5, 5, 5, 5, 5, 5, 5]  100.09   \n",
       " \n",
       "                        Ask_Vols  \n",
       " 0                  [0, 0, 0, 0]  \n",
       " 1                  [0, 0, 0, 0]  \n",
       " 2              [45, 5, 5, 5, 5]  \n",
       " 3        [70, 5, 5, 5, 5, 5, 5]  \n",
       " 4                 [60, 5, 5, 5]  \n",
       " 5              [50, 5, 5, 5, 5]  \n",
       " 6           [40, 5, 5, 5, 5, 5]  \n",
       " 7              [30, 5, 5, 5, 5]  \n",
       " 8  [20, 5, 5, 5, 5, 5, 5, 5, 5]  ,\n",
       " 4:    Level   Bids                          Bid_Vol    Asks  \\\n",
       " 0      1  99.98            [0, 0, 0, 0, 0, 0, 5]  100.01   \n",
       " 1      2  99.97                          [80, 5]  100.02   \n",
       " 2      3  99.96              [70, 5, 5, 5, 5, 5]  100.03   \n",
       " 3      4  99.95        [60, 5, 5, 5, 5, 5, 5, 5]  100.04   \n",
       " 4      5  99.94                 [50, 5, 5, 5, 5]  100.05   \n",
       " 5      6  99.93                    [40, 5, 5, 5]  100.06   \n",
       " 6      7  99.92  [30, 5, 5, 5, 5, 5, 5, 5, 5, 5]  100.07   \n",
       " 7      8  99.91     [20, 5, 5, 5, 5, 5, 5, 5, 5]  100.08   \n",
       " 8      9  99.90           [10, 5, 5, 5, 5, 5, 5]  100.09   \n",
       " \n",
       "                        Ask_Vols  \n",
       " 0                  [0, 0, 0, 0]  \n",
       " 1                  [0, 0, 0, 0]  \n",
       " 2              [45, 5, 5, 5, 5]  \n",
       " 3        [70, 5, 5, 5, 5, 5, 5]  \n",
       " 4                 [60, 5, 5, 5]  \n",
       " 5              [50, 5, 5, 5, 5]  \n",
       " 6           [40, 5, 5, 5, 5, 5]  \n",
       " 7              [30, 5, 5, 5, 5]  \n",
       " 8  [20, 5, 5, 5, 5, 5, 5, 5, 5]  ,\n",
       " 5:    Level   Bids                          Bid_Vol    Asks  \\\n",
       " 0      1  99.99            [0, 0, 0, 0, 0, 0, 0]  100.01   \n",
       " 1      2  99.98            [0, 0, 0, 0, 0, 0, 5]  100.02   \n",
       " 2      3  99.97                          [80, 5]  100.03   \n",
       " 3      4  99.96              [70, 5, 5, 5, 5, 5]  100.04   \n",
       " 4      5  99.95        [60, 5, 5, 5, 5, 5, 5, 5]  100.05   \n",
       " 5      6  99.94                 [50, 5, 5, 5, 5]  100.06   \n",
       " 6      7  99.93                    [40, 5, 5, 5]  100.07   \n",
       " 7      8  99.92  [30, 5, 5, 5, 5, 5, 5, 5, 5, 5]  100.08   \n",
       " 8      9  99.91     [20, 5, 5, 5, 5, 5, 5, 5, 5]  100.09   \n",
       " \n",
       "                        Ask_Vols  \n",
       " 0                  [0, 0, 0, 0]  \n",
       " 1                  [0, 0, 0, 0]  \n",
       " 2              [45, 5, 5, 5, 5]  \n",
       " 3        [70, 5, 5, 5, 5, 5, 5]  \n",
       " 4                 [60, 5, 5, 5]  \n",
       " 5              [50, 5, 5, 5, 5]  \n",
       " 6           [40, 5, 5, 5, 5, 5]  \n",
       " 7              [30, 5, 5, 5, 5]  \n",
       " 8  [20, 5, 5, 5, 5, 5, 5, 5, 5]  ,\n",
       " 6:    Level   Bids                          Bid_Vol    Asks  \\\n",
       " 0      1  99.99            [0, 0, 0, 0, 0, 0, 0]  100.02   \n",
       " 1      2  99.98            [0, 0, 0, 0, 0, 0, 5]  100.03   \n",
       " 2      3  99.97                          [80, 5]  100.04   \n",
       " 3      4  99.96              [70, 5, 5, 5, 5, 5]  100.05   \n",
       " 4      5  99.95        [60, 5, 5, 5, 5, 5, 5, 5]  100.06   \n",
       " 5      6  99.94                 [50, 5, 5, 5, 5]  100.07   \n",
       " 6      7  99.93                    [40, 5, 5, 5]  100.08   \n",
       " 7      8  99.92  [30, 5, 5, 5, 5, 5, 5, 5, 5, 5]  100.09   \n",
       " 8      9  99.91     [20, 5, 5, 5, 5, 5, 5, 5, 5]  100.10   \n",
       " \n",
       "                        Ask_Vols  \n",
       " 0                  [0, 0, 0, 0]  \n",
       " 1              [45, 5, 5, 5, 5]  \n",
       " 2        [70, 5, 5, 5, 5, 5, 5]  \n",
       " 3                 [60, 5, 5, 5]  \n",
       " 4              [50, 5, 5, 5, 5]  \n",
       " 5           [40, 5, 5, 5, 5, 5]  \n",
       " 6              [30, 5, 5, 5, 5]  \n",
       " 7  [20, 5, 5, 5, 5, 5, 5, 5, 5]  \n",
       " 8           [10, 5, 5, 5, 5, 5]  ,\n",
       " 7:    Level   Bids                          Bid_Vol    Asks  \\\n",
       " 0      1  99.99            [0, 0, 0, 0, 0, 0, 0]  100.02   \n",
       " 1      2  99.98            [0, 0, 0, 0, 0, 0, 5]  100.03   \n",
       " 2      3  99.97                          [80, 5]  100.04   \n",
       " 3      4  99.96              [70, 5, 5, 5, 5, 5]  100.05   \n",
       " 4      5  99.95        [60, 5, 5, 5, 5, 5, 5, 5]  100.06   \n",
       " 5      6  99.94                 [50, 5, 5, 5, 5]  100.07   \n",
       " 6      7  99.93                    [40, 5, 5, 5]  100.08   \n",
       " 7      8  99.92  [30, 5, 5, 5, 5, 5, 5, 5, 5, 5]  100.09   \n",
       " 8      9  99.91     [20, 5, 5, 5, 5, 5, 5, 5, 5]  100.10   \n",
       " \n",
       "                        Ask_Vols  \n",
       " 0                  [0, 0, 0, 0]  \n",
       " 1              [45, 5, 5, 5, 5]  \n",
       " 2        [70, 5, 5, 5, 5, 5, 5]  \n",
       " 3                 [60, 5, 5, 5]  \n",
       " 4              [50, 5, 5, 5, 5]  \n",
       " 5           [40, 5, 5, 5, 5, 5]  \n",
       " 6              [30, 5, 5, 5, 5]  \n",
       " 7  [20, 5, 5, 5, 5, 5, 5, 5, 5]  \n",
       " 8           [10, 5, 5, 5, 5, 5]  ,\n",
       " 8:    Level   Bids                          Bid_Vol    Asks  \\\n",
       " 0      1  99.98            [0, 0, 0, 0, 0, 0, 5]  100.01   \n",
       " 1      2  99.97                          [80, 5]  100.02   \n",
       " 2      3  99.96              [70, 5, 5, 5, 5, 5]  100.03   \n",
       " 3      4  99.95        [60, 5, 5, 5, 5, 5, 5, 5]  100.04   \n",
       " 4      5  99.94                 [50, 5, 5, 5, 5]  100.05   \n",
       " 5      6  99.93                    [40, 5, 5, 5]  100.06   \n",
       " 6      7  99.92  [30, 5, 5, 5, 5, 5, 5, 5, 5, 5]  100.07   \n",
       " 7      8  99.91     [20, 5, 5, 5, 5, 5, 5, 5, 5]  100.08   \n",
       " 8      9  99.90           [10, 5, 5, 5, 5, 5, 5]  100.09   \n",
       " \n",
       "                        Ask_Vols  \n",
       " 0                  [0, 0, 0, 0]  \n",
       " 1                  [0, 0, 0, 0]  \n",
       " 2              [45, 5, 5, 5, 5]  \n",
       " 3        [70, 5, 5, 5, 5, 5, 5]  \n",
       " 4                 [60, 5, 5, 5]  \n",
       " 5              [50, 5, 5, 5, 5]  \n",
       " 6           [40, 5, 5, 5, 5, 5]  \n",
       " 7              [30, 5, 5, 5, 5]  \n",
       " 8  [20, 5, 5, 5, 5, 5, 5, 5, 5]  ,\n",
       " 9:    Level   Bids                          Bid_Vol    Asks  \\\n",
       " 0      1  99.99            [0, 0, 0, 0, 0, 0, 0]  100.02   \n",
       " 1      2  99.98            [0, 0, 0, 0, 0, 0, 5]  100.03   \n",
       " 2      3  99.97                          [80, 5]  100.04   \n",
       " 3      4  99.96              [70, 5, 5, 5, 5, 5]  100.05   \n",
       " 4      5  99.95        [60, 5, 5, 5, 5, 5, 5, 5]  100.06   \n",
       " 5      6  99.94                 [50, 5, 5, 5, 5]  100.07   \n",
       " 6      7  99.93                    [40, 5, 5, 5]  100.08   \n",
       " 7      8  99.92  [30, 5, 5, 5, 5, 5, 5, 5, 5, 5]  100.09   \n",
       " 8      9  99.91     [20, 5, 5, 5, 5, 5, 5, 5, 5]  100.10   \n",
       " \n",
       "                        Ask_Vols  \n",
       " 0                  [0, 0, 0, 0]  \n",
       " 1              [45, 5, 5, 5, 5]  \n",
       " 2        [70, 5, 5, 5, 5, 5, 5]  \n",
       " 3                 [60, 5, 5, 5]  \n",
       " 4              [50, 5, 5, 5, 5]  \n",
       " 5           [40, 5, 5, 5, 5, 5]  \n",
       " 6              [30, 5, 5, 5, 5]  \n",
       " 7  [20, 5, 5, 5, 5, 5, 5, 5, 5]  \n",
       " 8           [10, 5, 5, 5, 5, 5]  ,\n",
       " 10:    Level   Bids                          Bid_Vol    Asks  \\\n",
       " 0      1  99.98            [0, 0, 0, 0, 0, 0, 5]  100.03   \n",
       " 1      2  99.97                          [80, 5]  100.04   \n",
       " 2      3  99.96              [70, 5, 5, 5, 5, 5]  100.05   \n",
       " 3      4  99.95        [60, 5, 5, 5, 5, 5, 5, 5]  100.06   \n",
       " 4      5  99.94                 [50, 5, 5, 5, 5]  100.07   \n",
       " 5      6  99.93                    [40, 5, 5, 5]  100.08   \n",
       " 6      7  99.92  [30, 5, 5, 5, 5, 5, 5, 5, 5, 5]  100.09   \n",
       " 7      8  99.91     [20, 5, 5, 5, 5, 5, 5, 5, 5]  100.10   \n",
       " \n",
       "                        Ask_Vols  \n",
       " 0              [45, 5, 5, 5, 5]  \n",
       " 1        [70, 5, 5, 5, 5, 5, 5]  \n",
       " 2                 [60, 5, 5, 5]  \n",
       " 3              [50, 5, 5, 5, 5]  \n",
       " 4           [40, 5, 5, 5, 5, 5]  \n",
       " 5              [30, 5, 5, 5, 5]  \n",
       " 6  [20, 5, 5, 5, 5, 5, 5, 5, 5]  \n",
       " 7           [10, 5, 5, 5, 5, 5]  }"
      ]
     },
     "execution_count": 2,
     "metadata": {},
     "output_type": "execute_result"
    }
   ],
   "source": []
  },
  {
   "cell_type": "code",
   "execution_count": 1,
   "metadata": {},
   "outputs": [],
   "source": [
    "from ob_helper import *\n",
    "b_test=  Book(100)"
   ]
  },
  {
   "cell_type": "code",
   "execution_count": 2,
   "metadata": {},
   "outputs": [
    {
     "data": {
      "text/html": [
       "<div>\n",
       "<style scoped>\n",
       "    .dataframe tbody tr th:only-of-type {\n",
       "        vertical-align: middle;\n",
       "    }\n",
       "\n",
       "    .dataframe tbody tr th {\n",
       "        vertical-align: top;\n",
       "    }\n",
       "\n",
       "    .dataframe thead th {\n",
       "        text-align: right;\n",
       "    }\n",
       "</style>\n",
       "<table border=\"1\" class=\"dataframe\">\n",
       "  <thead>\n",
       "    <tr style=\"text-align: right;\">\n",
       "      <th></th>\n",
       "      <th>Level</th>\n",
       "      <th>Bids</th>\n",
       "      <th>Bid_Vol</th>\n",
       "      <th>Asks</th>\n",
       "      <th>Ask_Vols</th>\n",
       "    </tr>\n",
       "  </thead>\n",
       "  <tbody>\n",
       "    <tr>\n",
       "      <th>0</th>\n",
       "      <td>1</td>\n",
       "      <td>99.99</td>\n",
       "      <td>[100]</td>\n",
       "      <td>100.01</td>\n",
       "      <td>100</td>\n",
       "    </tr>\n",
       "    <tr>\n",
       "      <th>1</th>\n",
       "      <td>2</td>\n",
       "      <td>99.98</td>\n",
       "      <td>[90]</td>\n",
       "      <td>100.02</td>\n",
       "      <td>90</td>\n",
       "    </tr>\n",
       "    <tr>\n",
       "      <th>2</th>\n",
       "      <td>3</td>\n",
       "      <td>99.97</td>\n",
       "      <td>[80]</td>\n",
       "      <td>100.03</td>\n",
       "      <td>80</td>\n",
       "    </tr>\n",
       "    <tr>\n",
       "      <th>3</th>\n",
       "      <td>4</td>\n",
       "      <td>99.96</td>\n",
       "      <td>[70]</td>\n",
       "      <td>100.04</td>\n",
       "      <td>70</td>\n",
       "    </tr>\n",
       "    <tr>\n",
       "      <th>4</th>\n",
       "      <td>5</td>\n",
       "      <td>99.95</td>\n",
       "      <td>[60]</td>\n",
       "      <td>100.05</td>\n",
       "      <td>60</td>\n",
       "    </tr>\n",
       "    <tr>\n",
       "      <th>5</th>\n",
       "      <td>6</td>\n",
       "      <td>99.94</td>\n",
       "      <td>[50]</td>\n",
       "      <td>100.06</td>\n",
       "      <td>50</td>\n",
       "    </tr>\n",
       "    <tr>\n",
       "      <th>6</th>\n",
       "      <td>7</td>\n",
       "      <td>99.93</td>\n",
       "      <td>[40]</td>\n",
       "      <td>100.07</td>\n",
       "      <td>40</td>\n",
       "    </tr>\n",
       "    <tr>\n",
       "      <th>7</th>\n",
       "      <td>8</td>\n",
       "      <td>99.92</td>\n",
       "      <td>[30]</td>\n",
       "      <td>100.08</td>\n",
       "      <td>30</td>\n",
       "    </tr>\n",
       "    <tr>\n",
       "      <th>8</th>\n",
       "      <td>9</td>\n",
       "      <td>99.91</td>\n",
       "      <td>[20]</td>\n",
       "      <td>100.09</td>\n",
       "      <td>20</td>\n",
       "    </tr>\n",
       "  </tbody>\n",
       "</table>\n",
       "</div>"
      ],
      "text/plain": [
       "   Level   Bids Bid_Vol    Asks  Ask_Vols\n",
       "0      1  99.99   [100]  100.01       100\n",
       "1      2  99.98    [90]  100.02        90\n",
       "2      3  99.97    [80]  100.03        80\n",
       "3      4  99.96    [70]  100.04        70\n",
       "4      5  99.95    [60]  100.05        60\n",
       "5      6  99.94    [50]  100.06        50\n",
       "6      7  99.93    [40]  100.07        40\n",
       "7      8  99.92    [30]  100.08        30\n",
       "8      9  99.91    [20]  100.09        20"
      ]
     },
     "execution_count": 2,
     "metadata": {},
     "output_type": "execute_result"
    }
   ],
   "source": [
    "b_test.generate_book()\n"
   ]
  },
  {
   "cell_type": "code",
   "execution_count": null,
   "metadata": {},
   "outputs": [],
   "source": []
  },
  {
   "cell_type": "code",
   "execution_count": null,
   "metadata": {},
   "outputs": [],
   "source": []
  },
  {
   "cell_type": "code",
   "execution_count": null,
   "metadata": {},
   "outputs": [],
   "source": []
  },
  {
   "cell_type": "code",
   "execution_count": null,
   "metadata": {},
   "outputs": [],
   "source": []
  },
  {
   "cell_type": "code",
   "execution_count": null,
   "metadata": {},
   "outputs": [],
   "source": []
  },
  {
   "cell_type": "code",
   "execution_count": null,
   "metadata": {},
   "outputs": [],
   "source": []
  },
  {
   "cell_type": "code",
   "execution_count": 2,
   "metadata": {},
   "outputs": [],
   "source": [
    "market_orders = market_order_poisson()"
   ]
  },
  {
   "cell_type": "code",
   "execution_count": null,
   "metadata": {},
   "outputs": [],
   "source": []
  },
  {
   "cell_type": "code",
   "execution_count": null,
   "metadata": {},
   "outputs": [],
   "source": []
  },
  {
   "cell_type": "code",
   "execution_count": null,
   "metadata": {},
   "outputs": [],
   "source": []
  },
  {
   "cell_type": "code",
   "execution_count": null,
   "metadata": {},
   "outputs": [],
   "source": []
  },
  {
   "cell_type": "code",
   "execution_count": null,
   "metadata": {},
   "outputs": [],
   "source": []
  },
  {
   "cell_type": "code",
   "execution_count": null,
   "metadata": {},
   "outputs": [],
   "source": [
    "market_orders"
   ]
  },
  {
   "cell_type": "code",
   "execution_count": null,
   "metadata": {},
   "outputs": [],
   "source": [
    "lo = limit_order_poisson(100,30,0.1,5,book.bid_sched,book.ask_sched)\n",
    "for i,v in lo.items():\n",
    "    print(i,v[0])"
   ]
  },
  {
   "cell_type": "code",
   "execution_count": null,
   "metadata": {},
   "outputs": [],
   "source": [
    "k = lo[23]\n",
    "for i in k:\n",
    "    print(i[0])"
   ]
  },
  {
   "cell_type": "code",
   "execution_count": null,
   "metadata": {},
   "outputs": [],
   "source": [
    "b = Book(100)"
   ]
  },
  {
   "cell_type": "code",
   "execution_count": null,
   "metadata": {},
   "outputs": [],
   "source": [
    "t = b.generate_book()"
   ]
  },
  {
   "cell_type": "code",
   "execution_count": null,
   "metadata": {},
   "outputs": [],
   "source": [
    "j = widgets.Output()\n",
    "with j:\n",
    "    display(HTML(t.to_html()))\n",
    "\n"
   ]
  },
  {
   "cell_type": "code",
   "execution_count": null,
   "metadata": {},
   "outputs": [],
   "source": [
    "widgets.HTML(t._repr_html_())\n",
    "\n"
   ]
  },
  {
   "cell_type": "code",
   "execution_count": null,
   "metadata": {},
   "outputs": [],
   "source": [
    "def get_html_table(target_df, title):\n",
    "    df_style = target_df.style.set_table_attributes(\"style='border:2px solid;font-size:10px;margin:10px'\").set_caption(title)\n",
    "    return df_style._repr_html_().render()"
   ]
  },
  {
   "cell_type": "code",
   "execution_count": null,
   "metadata": {},
   "outputs": [],
   "source": [
    "h = get_html_table(t,\"test\")\n",
    "k = widgets.HTML(widgets.HTML(t.style.set_table_attributes('class=\"table\"').render()))\n",
    "k"
   ]
  },
  {
   "cell_type": "code",
   "execution_count": null,
   "metadata": {},
   "outputs": [],
   "source": [
    "h"
   ]
  },
  {
   "cell_type": "code",
   "execution_count": null,
   "metadata": {},
   "outputs": [],
   "source": [
    "from IPython.display import display,HTML\n",
    "display(widgets.HTML(h.render()))"
   ]
  },
  {
   "cell_type": "code",
   "execution_count": null,
   "metadata": {},
   "outputs": [],
   "source": [
    "HTML(widgets.HTML(t.style.set_table_attributes('class=\"table\"').render()))"
   ]
  },
  {
   "cell_type": "code",
   "execution_count": null,
   "metadata": {},
   "outputs": [],
   "source": [
    "import pandas as pd\n",
    "from ipywidgets import *\n",
    "from IPython.display import display\n",
    "import numpy as np\n",
    "\n",
    "out = Output()\n",
    "with out:\n",
    "    display(pd.DataFrame(np.random.randn(10,5)))\n",
    "display(HBox([out, out]))"
   ]
  },
  {
   "cell_type": "code",
   "execution_count": null,
   "metadata": {},
   "outputs": [],
   "source": []
  }
 ],
 "metadata": {
  "kernelspec": {
   "display_name": "Python 3",
   "language": "python",
   "name": "python3"
  },
  "language_info": {
   "codemirror_mode": {
    "name": "ipython",
    "version": 3
   },
   "file_extension": ".py",
   "mimetype": "text/x-python",
   "name": "python",
   "nbconvert_exporter": "python",
   "pygments_lexer": "ipython3",
   "version": "3.7.6"
  }
 },
 "nbformat": 4,
 "nbformat_minor": 4
}
